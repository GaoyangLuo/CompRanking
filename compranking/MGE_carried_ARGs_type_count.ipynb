{
 "cells": [
  {
   "cell_type": "markdown",
   "metadata": {},
   "source": [
    "# Calculate each ARG class and their carriers counts"
   ]
  },
  {
   "cell_type": "code",
   "execution_count": null,
   "metadata": {},
   "outputs": [],
   "source": [
    "import os\n",
    "import pandas as pd\n",
    "from collections import defaultdict\n",
    "\n",
    "# 文件夹路径\n",
    "folder_path = '/lomi_home/gaoyang/software/CompRanking/tmp_DSR/DSR/CompRanking_result'\n",
    "\n",
    "# 初始化最终结果的字典\n",
    "final_dict = defaultdict(lambda: defaultdict(int))\n",
    "\n",
    "# 遍历文件夹中的所有文件\n",
    "for filename in os.listdir(folder_path):\n",
    "    if filename.endswith('.contigs_AMR_MOB_prediction.tsv'):\n",
    "        filepath = os.path.join(folder_path, filename)\n",
    "        \n",
    "        # 提取样本名\n",
    "        sample_name = filename.split('_')[1].split(\".\")[0]\n",
    "        \n",
    "        # 初始化当前文件的结果字典\n",
    "        current_dict = defaultdict(lambda: [0, 0, 0, 0, 0])\n",
    "        \n",
    "        # 使用 chunksize 分块读取文件\n",
    "        for chunk in pd.read_csv(filepath, sep='\\t', chunksize=10000):\n",
    "            # 按条件过滤数据\n",
    "            filtered_chunk = chunk[chunk['CompRanking_MGE_prediction'].isin(['plasmid', 'phage', 'unclassified', 'IS', 'IE'])]\n",
    "            \n",
    "            # 预处理 ARG_class 列\n",
    "            def preprocess_arg_class(arg_class):\n",
    "                if arg_class == '-':\n",
    "                    return None\n",
    "                arg_class = arg_class.split('/')[0]\n",
    "                arg_class = arg_class.split(':')[0]\n",
    "                return arg_class\n",
    "            \n",
    "            filtered_chunk['ARG_class'] = filtered_chunk['ARG_class'].apply(preprocess_arg_class)\n",
    "            filtered_chunk = filtered_chunk.dropna(subset=['ARG_class'])\n",
    "            \n",
    "            # 使用 groupby 和 size 进行计数\n",
    "            grouped = filtered_chunk.groupby(['ARG_class', 'CompRanking_MGE_prediction']).size().reset_index(name='count')\n",
    "            \n",
    "            for _, row in grouped.iterrows():\n",
    "                arg_class = row['ARG_class']\n",
    "                mge_prediction = row['CompRanking_MGE_prediction']\n",
    "                count = row['count']\n",
    "                \n",
    "                if mge_prediction == 'plasmid':\n",
    "                    current_dict[arg_class][0] += count\n",
    "                elif mge_prediction == 'phage':\n",
    "                    current_dict[arg_class][1] += count\n",
    "                elif mge_prediction == 'unclassified':\n",
    "                    current_dict[arg_class][2] += count\n",
    "                elif mge_prediction == 'IS':\n",
    "                    current_dict[arg_class][3] += count\n",
    "                elif mge_prediction == 'IE':\n",
    "                    current_dict[arg_class][4] += count\n",
    "        \n",
    "        # 更新最终结果字典\n",
    "        for arg_class, counts in current_dict.items():\n",
    "            final_dict[arg_class][f'{sample_name}_x'] += counts[0] #plasmid\n",
    "            final_dict[arg_class][f'{sample_name}_y'] += counts[1] #phage\n",
    "            final_dict[arg_class][f'{sample_name}_z'] += counts[2] #unclassified\n",
    "            final_dict[arg_class][f'{sample_name}_m'] += counts[3] #IS\n",
    "            final_dict[arg_class][f'{sample_name}_n'] += counts[4] #IE"
   ]
  },
  {
   "cell_type": "code",
   "execution_count": null,
   "metadata": {},
   "outputs": [],
   "source": [
    "final_df = pd.DataFrame(final_dict).T.fillna(0).astype(int)\n",
    "final_df "
   ]
  },
  {
   "cell_type": "code",
   "execution_count": 15,
   "metadata": {},
   "outputs": [],
   "source": [
    "final_df.to_csv('/lomi_home/gaoyang/software/CompRanking/tmp_DSR/DSR/CompRanking_result/ori_3_RGI_with_multidrug_adjust_cell_rpkg/MGE_carried_ARGs_type_count_final_result.tsv', sep='\\t')"
   ]
  }
 ],
 "metadata": {
  "kernelspec": {
   "display_name": "cpr",
   "language": "python",
   "name": "python3"
  },
  "language_info": {
   "codemirror_mode": {
    "name": "ipython",
    "version": 3
   },
   "file_extension": ".py",
   "mimetype": "text/x-python",
   "name": "python",
   "nbconvert_exporter": "python",
   "pygments_lexer": "ipython3",
   "version": "3.8.13"
  }
 },
 "nbformat": 4,
 "nbformat_minor": 2
}
