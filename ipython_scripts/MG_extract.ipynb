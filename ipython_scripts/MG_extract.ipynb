{
 "cells": [
  {
   "cell_type": "code",
   "execution_count": 1,
   "metadata": {},
   "outputs": [],
   "source": [
    "from Bio import SeqIO\n",
    "import pandas as pd"
   ]
  },
  {
   "cell_type": "code",
   "execution_count": 6,
   "metadata": {},
   "outputs": [],
   "source": [
    "#6164\n",
    "File_name=\"./DEG10_Bacteria.faa\"\n",
    "count=0\n",
    "ult=6164\n",
    "Fasta_name = open(File_name, 'r')\n",
    "with open(\"./DEG10_Bacteria_bench.txt\", 'w') as f:\n",
    "    for record in SeqIO.parse(Fasta_name, 'fasta'):\n",
    "        if count <= ult:\n",
    "            f.write(\">\"+str(record.id) + '\\n'  + str(\n",
    "                record.seq) + '\\n')\n",
    "            count += 1\n",
    "        else:\n",
    "            break\n",
    "    f.close()\n"
   ]
  },
  {
   "cell_type": "code",
   "execution_count": null,
   "metadata": {},
   "outputs": [],
   "source": []
  }
 ],
 "metadata": {
  "kernelspec": {
   "display_name": "Python 3.8.13 ('base')",
   "language": "python",
   "name": "python3"
  },
  "language_info": {
   "codemirror_mode": {
    "name": "ipython",
    "version": 3
   },
   "file_extension": ".py",
   "mimetype": "text/x-python",
   "name": "python",
   "nbconvert_exporter": "python",
   "pygments_lexer": "ipython3",
   "version": "3.8.13 | packaged by conda-forge | (default, Mar 25 2022, 06:04:18) \n[GCC 10.3.0]"
  },
  "orig_nbformat": 4,
  "vscode": {
   "interpreter": {
    "hash": "96a28c887955343dfdcfe0648667fa1d323b86bd8c9a5b8cfe9af24fde7c7749"
   }
  }
 },
 "nbformat": 4,
 "nbformat_minor": 2
}
