{
 "cells": [
  {
   "cell_type": "code",
   "execution_count": 6,
   "metadata": {},
   "outputs": [],
   "source": [
    "import pandas as pd\n",
    "import os\n",
    "import glob"
   ]
  },
  {
   "cell_type": "code",
   "execution_count": 22,
   "metadata": {},
   "outputs": [
    {
     "name": "stdout",
     "output_type": "stream",
     "text": [
      "['/lomi_home/gaoyang/software/CompRanking/tmp_DSR/DSR/CompRanking_intermediate/preprocessing/5M_contigs/AGS/S0PP.contigs.AGS.txt', '/lomi_home/gaoyang/software/CompRanking/tmp_DSR/DSR/CompRanking_intermediate/preprocessing/5M_contigs/AGS/S0WE.contigs.AGS.txt', '/lomi_home/gaoyang/software/CompRanking/tmp_DSR/DSR/CompRanking_intermediate/preprocessing/5M_contigs/AGS/S0WOOD.contigs.AGS.txt', '/lomi_home/gaoyang/software/CompRanking/tmp_DSR/DSR/CompRanking_intermediate/preprocessing/5M_contigs/AGS/S1PCL.contigs.AGS.txt', '/lomi_home/gaoyang/software/CompRanking/tmp_DSR/DSR/CompRanking_intermediate/preprocessing/5M_contigs/AGS/S1PHA.contigs.AGS.txt', '/lomi_home/gaoyang/software/CompRanking/tmp_DSR/DSR/CompRanking_intermediate/preprocessing/5M_contigs/AGS/S1PP.contigs.AGS.txt', '/lomi_home/gaoyang/software/CompRanking/tmp_DSR/DSR/CompRanking_intermediate/preprocessing/5M_contigs/AGS/S1PS.contigs.AGS.txt', '/lomi_home/gaoyang/software/CompRanking/tmp_DSR/DSR/CompRanking_intermediate/preprocessing/5M_contigs/AGS/S1WE.contigs.AGS.txt', '/lomi_home/gaoyang/software/CompRanking/tmp_DSR/DSR/CompRanking_intermediate/preprocessing/5M_contigs/AGS/S1WOOD.contigs.AGS.txt', '/lomi_home/gaoyang/software/CompRanking/tmp_DSR/DSR/CompRanking_intermediate/preprocessing/5M_contigs/AGS/S2PCL.contigs.AGS.txt', '/lomi_home/gaoyang/software/CompRanking/tmp_DSR/DSR/CompRanking_intermediate/preprocessing/5M_contigs/AGS/S2PHA.contigs.AGS.txt', '/lomi_home/gaoyang/software/CompRanking/tmp_DSR/DSR/CompRanking_intermediate/preprocessing/5M_contigs/AGS/S2PP.contigs.AGS.txt', '/lomi_home/gaoyang/software/CompRanking/tmp_DSR/DSR/CompRanking_intermediate/preprocessing/5M_contigs/AGS/S2PS.contigs.AGS.txt', '/lomi_home/gaoyang/software/CompRanking/tmp_DSR/DSR/CompRanking_intermediate/preprocessing/5M_contigs/AGS/S2WE.contigs.AGS.txt', '/lomi_home/gaoyang/software/CompRanking/tmp_DSR/DSR/CompRanking_intermediate/preprocessing/5M_contigs/AGS/S2WOOD.contigs.AGS.txt', '/lomi_home/gaoyang/software/CompRanking/tmp_DSR/DSR/CompRanking_intermediate/preprocessing/5M_contigs/AGS/S3PCL.contigs.AGS.txt', '/lomi_home/gaoyang/software/CompRanking/tmp_DSR/DSR/CompRanking_intermediate/preprocessing/5M_contigs/AGS/S3PHA.contigs.AGS.txt', '/lomi_home/gaoyang/software/CompRanking/tmp_DSR/DSR/CompRanking_intermediate/preprocessing/5M_contigs/AGS/S3PP.contigs.AGS.txt', '/lomi_home/gaoyang/software/CompRanking/tmp_DSR/DSR/CompRanking_intermediate/preprocessing/5M_contigs/AGS/S3PS.contigs.AGS.txt', '/lomi_home/gaoyang/software/CompRanking/tmp_DSR/DSR/CompRanking_intermediate/preprocessing/5M_contigs/AGS/S3WE.contigs.AGS.txt', '/lomi_home/gaoyang/software/CompRanking/tmp_DSR/DSR/CompRanking_intermediate/preprocessing/5M_contigs/AGS/S3WOOD.contigs.AGS.txt', '/lomi_home/gaoyang/software/CompRanking/tmp_DSR/DSR/CompRanking_intermediate/preprocessing/5M_contigs/AGS/S0PHA.contigs.AGS.txt'] ['S0PP.contigs', 'S0WE.contigs', 'S0WOOD.contigs', 'S1PCL.contigs', 'S1PHA.contigs', 'S1PP.contigs', 'S1PS.contigs', 'S1WE.contigs', 'S1WOOD.contigs', 'S2PCL.contigs', 'S2PHA.contigs', 'S2PP.contigs', 'S2PS.contigs', 'S2WE.contigs', 'S2WOOD.contigs', 'S3PCL.contigs', 'S3PHA.contigs', 'S3PP.contigs', 'S3PS.contigs', 'S3WE.contigs', 'S3WOOD.contigs', 'S0PHA.contigs']\n"
     ]
    }
   ],
   "source": [
    "input_AGS_dir=\"/lomi_home/gaoyang/software/CompRanking/tmp_DSR/DSR/CompRanking_intermediate/preprocessing/5M_contigs/AGS\"\n",
    "\n",
    "def getPrefix(input):\n",
    "    empty=[]\n",
    "    file_list=glob.glob(input+\"/*.AGS.txt\")\n",
    "    for i in file_list:\n",
    "        prefix=((os.path.basename(i)).rstrip(\"AGS.txt\"))\n",
    "        empty.append(prefix)\n",
    "    \n",
    "    return file_list, empty\n",
    "file_list,prefix=getPrefix(input_AGS_dir)\n",
    "print(file_list,prefix)"
   ]
  },
  {
   "cell_type": "code",
   "execution_count": 25,
   "metadata": {},
   "outputs": [
    {
     "name": "stdout",
     "output_type": "stream",
     "text": [
      "The Average Genome Length of file S0PP.contigs is 6014761.905575387\n",
      "The Average Genome Length of file S0WE.contigs is 3910727.463104349\n",
      "The Average Genome Length of file S0WOOD.contigs is 5756645.198636655\n",
      "The Average Genome Length of file S1PCL.contigs is 12606084.850530172\n",
      "The Average Genome Length of file S1PHA.contigs is 10969994.844614401\n",
      "The Average Genome Length of file S1PP.contigs is 5671184.557140481\n",
      "The Average Genome Length of file S1PS.contigs is 7883179.626501719\n",
      "The Average Genome Length of file S1WE.contigs is 3814857.3885867693\n",
      "The Average Genome Length of file S1WOOD.contigs is 5151531.91542991\n",
      "The Average Genome Length of file S2PCL.contigs is 5186145.880636118\n",
      "The Average Genome Length of file S2PHA.contigs is 5842713.543396456\n",
      "The Average Genome Length of file S2PP.contigs is 6280995.41193071\n",
      "The Average Genome Length of file S2PS.contigs is 5825287.928907811\n",
      "The Average Genome Length of file S2WE.contigs is 3740178.359735424\n",
      "The Average Genome Length of file S2WOOD.contigs is 20961664.09610792\n",
      "The Average Genome Length of file S3PCL.contigs is 4556096.3300863225\n",
      "The Average Genome Length of file S3PHA.contigs is 5250998.826878625\n",
      "The Average Genome Length of file S3PP.contigs is 5294059.783755553\n",
      "The Average Genome Length of file S3PS.contigs is 5522717.676353175\n",
      "The Average Genome Length of file S3WE.contigs is 3307389.5070779435\n",
      "The Average Genome Length of file S3WOOD.contigs is 5620279.529699219\n",
      "The Average Genome Length of file S0PHA.contigs is 4895293.596242019\n",
      "{'S0PP.contigs': 6014761.905575387, 'S0WE.contigs': 3910727.463104349, 'S0WOOD.contigs': 5756645.198636655, 'S1PCL.contigs': 12606084.850530172, 'S1PHA.contigs': 10969994.844614401, 'S1PP.contigs': 5671184.557140481, 'S1PS.contigs': 7883179.626501719, 'S1WE.contigs': 3814857.3885867693, 'S1WOOD.contigs': 5151531.91542991, 'S2PCL.contigs': 5186145.880636118, 'S2PHA.contigs': 5842713.543396456, 'S2PP.contigs': 6280995.41193071, 'S2PS.contigs': 5825287.928907811, 'S2WE.contigs': 3740178.359735424, 'S2WOOD.contigs': 20961664.09610792, 'S3PCL.contigs': 4556096.3300863225, 'S3PHA.contigs': 5250998.826878625, 'S3PP.contigs': 5294059.783755553, 'S3PS.contigs': 5522717.676353175, 'S3WE.contigs': 3307389.5070779435, 'S3WOOD.contigs': 5620279.529699219, 'S0PHA.contigs': 4895293.596242019}\n"
     ]
    }
   ],
   "source": [
    "def get_genome_len():\n",
    "    genome_length_dic={}\n",
    "    for index, j in enumerate(file_list): \n",
    "        for lines in open(j,'r'):\n",
    "                            if lines.startswith('average_genome_size'):\n",
    "                                lines_set = lines.split('\\n')[0].split('\\t')\n",
    "                                genome_length = float(lines_set[1])\n",
    "                                genome_length_dic.setdefault(prefix[index],float(genome_length))\n",
    "                                print(\"The Average Genome Length of file {} is {}\".format(prefix[index],genome_length ))\n",
    "    return genome_length_dic\n",
    "print(get_genome_len())                           "
   ]
  },
  {
   "cell_type": "code",
   "execution_count": null,
   "metadata": {},
   "outputs": [],
   "source": []
  }
 ],
 "metadata": {
  "kernelspec": {
   "display_name": "base",
   "language": "python",
   "name": "python3"
  },
  "language_info": {
   "codemirror_mode": {
    "name": "ipython",
    "version": 3
   },
   "file_extension": ".py",
   "mimetype": "text/x-python",
   "name": "python",
   "nbconvert_exporter": "python",
   "pygments_lexer": "ipython3",
   "version": "3.8.13"
  },
  "orig_nbformat": 4,
  "vscode": {
   "interpreter": {
    "hash": "96a28c887955343dfdcfe0648667fa1d323b86bd8c9a5b8cfe9af24fde7c7749"
   }
  }
 },
 "nbformat": 4,
 "nbformat_minor": 2
}
