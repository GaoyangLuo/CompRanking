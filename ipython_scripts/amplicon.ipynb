{
 "cells": [
  {
   "cell_type": "code",
   "execution_count": 2,
   "metadata": {},
   "outputs": [],
   "source": [
    "import pandas as pd\n",
    "import os"
   ]
  },
  {
   "cell_type": "code",
   "execution_count": 9,
   "metadata": {},
   "outputs": [
    {
     "data": {
      "text/plain": [
       "59570"
      ]
     },
     "execution_count": 9,
     "metadata": {},
     "output_type": "execute_result"
    }
   ],
   "source": [
    "kraken=\"/lomi_home/gaoyang/software/CompRanking/tmp_DSR/DSR/CompRanking_intermediate/preprocessing/5M_contigs/S0PCL.contigs_report_kk2_mpaStyle_16S.txt\"\n",
    "input_dir=\"/lomi_home/gaoyang/software/CompRanking/tmp_DSR\"\n",
    "df_amp=pd.read_csv(os.path.join(input_dir, \"amplicon_2.txt\"), header=0,sep=\"\\t\")\n",
    "amplicon_dic={}\n",
    "for i, name in df_amp.iterrows():\n",
    "    amplicon_dic.setdefault(str(name[\"ID\"].split(\"_\")[0]+\".contigs\"), int(name[\"copy\"]))\n",
    "copy_16S=amplicon_dic[os.path.basename(kraken).split(\"_\")[0]]\n",
    "copy_16S\n",
    "# amplicon_dic"
   ]
  },
  {
   "cell_type": "code",
   "execution_count": null,
   "metadata": {},
   "outputs": [],
   "source": []
  }
 ],
 "metadata": {
  "kernelspec": {
   "display_name": "base",
   "language": "python",
   "name": "python3"
  },
  "language_info": {
   "codemirror_mode": {
    "name": "ipython",
    "version": 3
   },
   "file_extension": ".py",
   "mimetype": "text/x-python",
   "name": "python",
   "nbconvert_exporter": "python",
   "pygments_lexer": "ipython3",
   "version": "3.8.13"
  },
  "orig_nbformat": 4,
  "vscode": {
   "interpreter": {
    "hash": "96a28c887955343dfdcfe0648667fa1d323b86bd8c9a5b8cfe9af24fde7c7749"
   }
  }
 },
 "nbformat": 4,
 "nbformat_minor": 2
}
